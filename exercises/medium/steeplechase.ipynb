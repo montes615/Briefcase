{
 "cells": [
  {
   "cell_type": "code",
   "execution_count": 3,
   "metadata": {},
   "outputs": [
    {
     "name": "stdout",
     "output_type": "stream",
     "text": [
      "__|_||__|\n",
      "True\n"
     ]
    }
   ],
   "source": [
    "\"\"\"\n",
    "/*\n",
    " * Crea una función que evalúe si un/a atleta ha superado correctamente una\n",
    " * carrera de obstáculos.\n",
    " * - La función recibirá dos parámetros:\n",
    " *      - Un array que sólo puede contener String con las palabras\n",
    " *        \"run\" o \"jump\"\n",
    " *      - Un String que represente la pista y sólo puede contener \"_\" (suelo)\n",
    " *        o \"|\" (valla)\n",
    " * - La función imprimirá cómo ha finalizado la carrera:\n",
    " *      - Si el/a atleta hace \"run\" en \"_\" (suelo) y \"jump\" en \"|\" (valla)\n",
    " *        será correcto y no variará el símbolo de esa parte de la pista.\n",
    " *      - Si hace \"jump\" en \"_\" (suelo), se variará la pista por \"x\".\n",
    " *      - Si hace \"run\" en \"|\" (valla), se variará la pista por \"/\".\n",
    " * - La función retornará un Boolean que indique si ha superado la carrera.\n",
    " * Para ello tiene que realizar la opción correcta en cada tramo de la pista.\n",
    " */\n",
    "\"\"\"\n",
    "import re\n",
    "\n",
    "relations = {'_': 'run', '|': 'jump'}\n",
    "\n",
    "def validate_race(actions: list, runway: str) -> bool:\n",
    "    if type(runway) != str or re.findall(r'[^_|]', runway):\n",
    "        raise ValueError('The runway only be a string and contains (_|) chars')\n",
    "    \n",
    "    if type(actions) != list:\n",
    "        raise ValueError('The actions param only be a list')\n",
    "    \n",
    "    if len(runway) != len(actions):\n",
    "        raise ValueError('The actions list and the runway dont have the same length')\n",
    "    \n",
    "    result_runway = ''\n",
    "    for i, stretch in enumerate(runway):\n",
    "        action = actions[i].lower()\n",
    "        if action not in relations.values():\n",
    "            return f'The {action} isnt correct only acept run or jump words'\n",
    "        \n",
    "        if relations[stretch] == action:\n",
    "            result_runway += stretch\n",
    "        elif stretch == '_':\n",
    "            result_runway += 'X'\n",
    "        else:\n",
    "            result_runway += '/'\n",
    "            \n",
    "    print(result_runway)\n",
    "    return result_runway == runway\n",
    "\n",
    "runway = '__|_||__|'\n",
    "actions = ['run', 'run', 'jump', 'run', 'jump', 'jump', 'run', 'run', 'jump']\n",
    "# actions = ['run', 'run', 'run', 'jump', 'jump', 'jump', 'run', 'run', 'jump']\n",
    "\n",
    "try:\n",
    "    result = validate_race(actions, runway)\n",
    "    print(result)\n",
    "except Exception as e:\n",
    "    print(e)"
   ]
  }
 ],
 "metadata": {
  "kernelspec": {
   "display_name": "env",
   "language": "python",
   "name": "python3"
  },
  "language_info": {
   "codemirror_mode": {
    "name": "ipython",
    "version": 3
   },
   "file_extension": ".py",
   "mimetype": "text/x-python",
   "name": "python",
   "nbconvert_exporter": "python",
   "pygments_lexer": "ipython3",
   "version": "3.11.0"
  }
 },
 "nbformat": 4,
 "nbformat_minor": 2
}
