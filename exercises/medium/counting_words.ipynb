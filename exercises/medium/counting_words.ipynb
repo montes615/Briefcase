{
 "cells": [
  {
   "cell_type": "code",
   "execution_count": 5,
   "metadata": {},
   "outputs": [
    {
     "name": "stdout",
     "output_type": "stream",
     "text": [
      "{'hola': 1, 'mi': 2, 'nombre': 2, 'es': 2, 'brais': 2, 'completo': 1, 'moure': 1, '(mouredev)': 1}\n"
     ]
    }
   ],
   "source": [
    "'''\n",
    "/*\n",
    " * Crea un programa que cuente cuantas veces se repite cada palabra\n",
    " * y que muestre el recuento final de todas ellas.\n",
    " * - Los signos de puntuación no forman parte de la palabra.\n",
    " * - Una palabra es la misma aunque aparezca en mayúsculas y minúsculas.\n",
    " * - No se pueden utilizar funciones propias del lenguaje que\n",
    " *   lo resuelvan automáticamente.\n",
    " */\n",
    "'''\n",
    "\n",
    "def counter_of_words(string: str) -> dict|str:\n",
    "    if type(string) != str:\n",
    "        return 'The argument must be a string'\n",
    "    \n",
    "    words_counter = {}\n",
    "    puntuaction_marks = ['.', ',', ';', ':']\n",
    "    prepared_string = string.lower()\n",
    "    \n",
    "    for i in puntuaction_marks:\n",
    "        prepared_string = prepared_string.replace(i, '')\n",
    "        \n",
    "    list_string = prepared_string.split(' ')\n",
    "    \n",
    "    for word in list_string:\n",
    "        if word in words_counter.keys():\n",
    "            words_counter[word] += 1\n",
    "        else:\n",
    "            words_counter[word] = 1\n",
    "    \n",
    "    return words_counter\n",
    "\n",
    "\n",
    "words = counter_of_words('Hola, mi nombre es brais. Mi nombre completo es Brais Moure (MoureDev).')\n",
    "print(words)"
   ]
  }
 ],
 "metadata": {
  "kernelspec": {
   "display_name": "env",
   "language": "python",
   "name": "python3"
  },
  "language_info": {
   "codemirror_mode": {
    "name": "ipython",
    "version": 3
   },
   "file_extension": ".py",
   "mimetype": "text/x-python",
   "name": "python",
   "nbconvert_exporter": "python",
   "pygments_lexer": "ipython3",
   "version": "3.11.0"
  }
 },
 "nbformat": 4,
 "nbformat_minor": 2
}
