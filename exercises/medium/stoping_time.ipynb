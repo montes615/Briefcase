{
 "cells": [
  {
   "cell_type": "code",
   "execution_count": 12,
   "metadata": {},
   "outputs": [
    {
     "name": "stdout",
     "output_type": "stream",
     "text": [
      "[7, 20]\n"
     ]
    }
   ],
   "source": [
    "\"\"\"\n",
    "/*\n",
    " * Crea una función que sume 2 números y retorne su resultado pasados\n",
    " * unos segundos.\n",
    " * - Recibirá por parámetros los 2 números a sumar y los segundos que\n",
    " *   debe tardar en finalizar su ejecución.\n",
    " * - Si el lenguaje lo soporta, deberá retornar el resultado de forma\n",
    " *   asíncrona, es decir, sin detener la ejecución del programa principal.\n",
    " *   Se podría ejecutar varias veces al mismo tiempo.\n",
    " */\n",
    "\"\"\"\n",
    "\n",
    "import asyncio\n",
    "\n",
    "async def delay(number1: int, number2: int, sleep_time: int) -> None:\n",
    "    if type(number1) != int or type(number2) != int or type(sleep_time) != int:\n",
    "        raise ValueError('The params must be integers')\n",
    "    \n",
    "    await asyncio.sleep(sleep_time)\n",
    "    return number1 + number2\n",
    "\n",
    "response = await asyncio.gather(delay(3, 4, 5), delay(9, 11, 2))\n",
    "print(response)"
   ]
  }
 ],
 "metadata": {
  "kernelspec": {
   "display_name": "env",
   "language": "python",
   "name": "python3"
  },
  "language_info": {
   "codemirror_mode": {
    "name": "ipython",
    "version": 3
   },
   "file_extension": ".py",
   "mimetype": "text/x-python",
   "name": "python",
   "nbconvert_exporter": "python",
   "pygments_lexer": "ipython3",
   "version": "3.11.0"
  }
 },
 "nbformat": 4,
 "nbformat_minor": 2
}
