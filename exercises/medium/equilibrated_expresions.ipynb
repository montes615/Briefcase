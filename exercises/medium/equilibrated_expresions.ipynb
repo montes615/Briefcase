{
 "cells": [
  {
   "cell_type": "code",
   "execution_count": 29,
   "metadata": {},
   "outputs": [
    {
     "name": "stdout",
     "output_type": "stream",
     "text": [
      "True\n"
     ]
    }
   ],
   "source": [
    "'''\n",
    "/*\n",
    " * Crea un programa que comprueba si los paréntesis, llaves y corchetes\n",
    " * de una expresión están equilibrados.\n",
    " * - Equilibrado significa que estos delimitadores se abren y cieran\n",
    " *   en orden y de forma correcta.\n",
    " * - Paréntesis, llaves y corchetes son igual de prioritarios.\n",
    " *   No hay uno más importante que otro.\n",
    " * - Expresión balanceada: { [ a * ( c + d ) ] - 5 }\n",
    " * - Expresión no balanceada: { a * ( c + d ) ] - 5 }\n",
    " */\n",
    "'''\n",
    "\n",
    "def equilibrated_expresion(expression: str) -> str:\n",
    "    simbols = {'[': ']', '(': ')', '{': '}'}\n",
    "    \n",
    "    delimiters_stack = []\n",
    "    for i, l in enumerate(expression):\n",
    "        if l in simbols.keys():\n",
    "            delimiters_stack.append(l)\n",
    "            \n",
    "        elif l in simbols.values() and (not delimiters_stack or l != simbols[delimiters_stack.pop()]):\n",
    "            return False\n",
    "    \n",
    "    if delimiters_stack:\n",
    "        return False\n",
    "    \n",
    "    return True\n",
    "\n",
    "\n",
    "expression = '{ [ a * ( c + d ) ] - 5 }'\n",
    "result = equilibrated_expresion(expression)\n",
    "print(result)"
   ]
  }
 ],
 "metadata": {
  "kernelspec": {
   "display_name": "env",
   "language": "python",
   "name": "python3"
  },
  "language_info": {
   "codemirror_mode": {
    "name": "ipython",
    "version": 3
   },
   "file_extension": ".py",
   "mimetype": "text/x-python",
   "name": "python",
   "nbconvert_exporter": "python",
   "pygments_lexer": "ipython3",
   "version": "3.11.0"
  }
 },
 "nbformat": 4,
 "nbformat_minor": 2
}
