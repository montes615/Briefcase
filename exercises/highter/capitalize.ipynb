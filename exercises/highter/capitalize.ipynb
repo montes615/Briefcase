{
 "cells": [
  {
   "cell_type": "code",
   "execution_count": 11,
   "metadata": {},
   "outputs": [
    {
     "name": "stdout",
     "output_type": "stream",
     "text": [
      "Á Crea Una Función Que Reciba Un String De Cualquier Ñsoño 14s\n"
     ]
    }
   ],
   "source": [
    "\"\"\"\n",
    "/*\n",
    " * Crea una función que reciba un String de cualquier tipo y se encargue de\n",
    " * poner en mayúscula la primera letra de cada palabra.\n",
    " * - No se pueden utilizar operaciones del lenguaje que\n",
    " *   lo resuelvan directamente.\n",
    " */\n",
    "\"\"\"\n",
    "alphabet_dict = {chr(i): chr(i).upper() for i in range(ord('a'), ord('z') + 1)} | {'ñ': 'Ñ', 'á': 'Á', 'é': 'É', 'í': 'Í', 'ó': 'Ó', 'ú': 'Ú'}\n",
    "\n",
    "def capitalize(string: str) -> str:\n",
    "    if type(string) != str:\n",
    "        return 'The argument must be a string'\n",
    "    \n",
    "    string_capitalize = [alphabet_dict[word[0]] + word[1:] if word[0] in alphabet_dict.keys() else word for word in string.split(' ')]\n",
    "    return ' '.join(string_capitalize).strip()\n",
    "\n",
    "capitalized_string = capitalize('á Crea una función que reciba un String de cualquier ñsoño 14s')\n",
    "print(capitalized_string)"
   ]
  }
 ],
 "metadata": {
  "kernelspec": {
   "display_name": "env",
   "language": "python",
   "name": "python3"
  },
  "language_info": {
   "codemirror_mode": {
    "name": "ipython",
    "version": 3
   },
   "file_extension": ".py",
   "mimetype": "text/x-python",
   "name": "python",
   "nbconvert_exporter": "python",
   "pygments_lexer": "ipython3",
   "version": "3.11.0"
  }
 },
 "nbformat": 4,
 "nbformat_minor": 2
}
