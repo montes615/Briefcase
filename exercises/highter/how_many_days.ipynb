{
 "cells": [
  {
   "cell_type": "code",
   "execution_count": 14,
   "metadata": {},
   "outputs": [
    {
     "name": "stdout",
     "output_type": "stream",
     "text": [
      "27 days, 0:00:00\n"
     ]
    }
   ],
   "source": [
    "\"\"\"\n",
    "/*\n",
    " * Crea una función que calcule y retorne cuántos días hay entre dos cadenas\n",
    " * de texto que representen fechas.\n",
    " * - Una cadena de texto que representa una fecha tiene el formato \"dd/MM/yyyy\".\n",
    " * - La función recibirá dos String y retornará un Int.\n",
    " * - La diferencia en días será absoluta (no importa el orden de las fechas).\n",
    " * - Si una de las dos cadenas de texto no representa una fecha correcta se\n",
    " *   lanzará una excepción.\n",
    " */\n",
    "\"\"\"\n",
    "\n",
    "from datetime import datetime\n",
    "\n",
    "def howManyDays(string_date1: str, string_date2: str) -> int:\n",
    "    try:\n",
    "        date1, date2 = datetime.strptime(string_date1.replace(' ', ''), '%d/%m/%Y'), datetime.strptime(string_date2.replace(' ', ''), '%d/%m/%Y')\n",
    "        return date1 - date2 if date1 > date2 else date2 - date1\n",
    "    except Exception as e:\n",
    "        print(e)\n",
    "        return 0\n",
    "\n",
    "diff = howManyDays('26/11/2024', '30/10/2024')\n",
    "print(diff)"
   ]
  }
 ],
 "metadata": {
  "kernelspec": {
   "display_name": "env",
   "language": "python",
   "name": "python3"
  },
  "language_info": {
   "codemirror_mode": {
    "name": "ipython",
    "version": 3
   },
   "file_extension": ".py",
   "mimetype": "text/x-python",
   "name": "python",
   "nbconvert_exporter": "python",
   "pygments_lexer": "ipython3",
   "version": "3.11.0"
  }
 },
 "nbformat": 4,
 "nbformat_minor": 2
}
