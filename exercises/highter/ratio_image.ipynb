{
 "cells": [
  {
   "cell_type": "code",
   "execution_count": 1,
   "metadata": {},
   "outputs": [
    {
     "name": "stdout",
     "output_type": "stream",
     "text": [
      "Image downloaded\n"
     ]
    }
   ],
   "source": [
    "'''\n",
    "/*\n",
    " * Crea un programa que se encargue de calcular el aspect ratio de una\n",
    " * imagen a partir de una url.\n",
    " * - Url de ejemplo:\n",
    " *   https://raw.githubusercontent.com/mouredevmouredev/master/mouredev_github_profile.png\n",
    " * - Por ratio hacemos referencia por ejemplo a los \"16:9\" de una\n",
    " *   imagen de 1920*1080px.\n",
    " */\n",
    "'''\n",
    "\n",
    "import requests\n",
    "\n",
    "# url = r'https://images.unsplash.com/photo-1595433707802-6b2626ef1c91?q=80&w=1160&auto=format&fit=crop&ixlib=rb-4.0.3&ixid=M3wxMjA3fDB8MHxwaG90by1wYWdlfHx8fGVufDB8fHx8fA%3D%3D'\n",
    "url = r'https://purina.com.mx/sites/default/files/styles/webp/public/2022-10/Que_debes_saber_antes_de_adoptar_un_gatito.jpg.webp?itok=t3EjykDK'\n",
    "\n",
    "response = requests.get(url)\n",
    "\n",
    "if response.status_code == 200:\n",
    "    with open('../static/cat.png', 'wb') as file:\n",
    "        file.write(response.content)\n",
    "    print('Image downloaded')\n",
    "else:\n",
    "    print('Error in the source')"
   ]
  },
  {
   "cell_type": "code",
   "execution_count": 2,
   "metadata": {},
   "outputs": [
    {
     "name": "stdout",
     "output_type": "stream",
     "text": [
      "ratio = 2.0\n"
     ]
    }
   ],
   "source": [
    "from PIL import Image\n",
    "\n",
    "image = Image.open('../static/cat.png')\n",
    "height, width = image.size\n",
    "image.close()\n",
    "\n",
    "print(f'ratio = {height/width}')"
   ]
  }
 ],
 "metadata": {
  "kernelspec": {
   "display_name": "env",
   "language": "python",
   "name": "python3"
  },
  "language_info": {
   "codemirror_mode": {
    "name": "ipython",
    "version": 3
   },
   "file_extension": ".py",
   "mimetype": "text/x-python",
   "name": "python",
   "nbconvert_exporter": "python",
   "pygments_lexer": "ipython3",
   "version": "3.11.0"
  }
 },
 "nbformat": 4,
 "nbformat_minor": 2
}
