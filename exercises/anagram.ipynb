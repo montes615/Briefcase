{
 "cells": [
  {
   "cell_type": "code",
   "execution_count": 29,
   "metadata": {},
   "outputs": [
    {
     "name": "stdout",
     "output_type": "stream",
     "text": [
      "True\n"
     ]
    }
   ],
   "source": [
    "word1 = 'sclauee'\n",
    "word2 = 'escuelA'\n",
    "\n",
    "def anagram(word1: str, word2: str) -> bool:\n",
    "    'Return True if the words are an anagram if the words are the same returns False'\n",
    "    \n",
    "    listword1 = list(word1.lower())\n",
    "    listword2 = list(word2.lower())\n",
    "    \n",
    "    listword1.sort()\n",
    "    listword2.sort()\n",
    "    \n",
    "    return True if listword1 == listword2 and word1 != word2 else False\n",
    "    \n",
    "print(anagram(word1, word2))"
   ]
  }
 ],
 "metadata": {
  "kernelspec": {
   "display_name": "env",
   "language": "python",
   "name": "python3"
  },
  "language_info": {
   "codemirror_mode": {
    "name": "ipython",
    "version": 3
   },
   "file_extension": ".py",
   "mimetype": "text/x-python",
   "name": "python",
   "nbconvert_exporter": "python",
   "pygments_lexer": "ipython3",
   "version": "3.11.0"
  }
 },
 "nbformat": 4,
 "nbformat_minor": 2
}
