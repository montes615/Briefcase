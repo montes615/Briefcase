{
 "cells": [
  {
   "cell_type": "code",
   "execution_count": 15,
   "metadata": {},
   "outputs": [
    {
     "name": "stdout",
     "output_type": "stream",
     "text": [
      "0\n",
      "1\n",
      "1\n",
      "2\n",
      "3\n",
      "5\n",
      "8\n",
      "13\n",
      "21\n",
      "34\n",
      "55\n",
      "89\n",
      "144\n"
     ]
    }
   ],
   "source": [
    "num1 = 0\n",
    "num2 = 1\n",
    "limit = 100\n",
    "\n",
    "def fibonacci(num1: int, num2: int, limit: int) -> None:\n",
    "    'Return a fibonacci succesion starts in 0 to 50'\n",
    "    \n",
    "    print(num1)\n",
    "    if limit > 0 and limit > num1:\n",
    "        new_num = num1 + num2\n",
    "        if new_num < 0:\n",
    "            return\n",
    "        fibonacci(num2, new_num, limit)\n",
    "    \n",
    "fibonacci(num1, num2, limit)"
   ]
  }
 ],
 "metadata": {
  "kernelspec": {
   "display_name": "env",
   "language": "python",
   "name": "python3"
  },
  "language_info": {
   "codemirror_mode": {
    "name": "ipython",
    "version": 3
   },
   "file_extension": ".py",
   "mimetype": "text/x-python",
   "name": "python",
   "nbconvert_exporter": "python",
   "pygments_lexer": "ipython3",
   "version": "3.11.0"
  }
 },
 "nbformat": 4,
 "nbformat_minor": 2
}
