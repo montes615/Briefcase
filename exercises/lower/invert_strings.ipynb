{
 "cells": [
  {
   "cell_type": "code",
   "execution_count": 1,
   "metadata": {},
   "outputs": [
    {
     "name": "stdout",
     "output_type": "stream",
     "text": [
      "odnuM aloH\n"
     ]
    }
   ],
   "source": [
    "'''\n",
    "/*\n",
    " * Crea un programa que invierta el orden de una cadena de texto\n",
    " * sin usar funciones propias del lenguaje que lo hagan de forma automática.\n",
    " * - Si le pasamos \"Hola mundo\" nos retornaría \"odnum aloH\"\n",
    " */\n",
    "'''\n",
    "\n",
    "def invert_string(string: str) -> str:\n",
    "    if type(string) != str:\n",
    "        return 'The argument must be a string'\n",
    "    \n",
    "    inverted_string = ''\n",
    "    for i in string:\n",
    "        inverted_string = i + inverted_string\n",
    "    \n",
    "    return inverted_string\n",
    "\n",
    "st = invert_string('Hola Mundo')\n",
    "print(st)"
   ]
  }
 ],
 "metadata": {
  "kernelspec": {
   "display_name": "env",
   "language": "python",
   "name": "python3"
  },
  "language_info": {
   "codemirror_mode": {
    "name": "ipython",
    "version": 3
   },
   "file_extension": ".py",
   "mimetype": "text/x-python",
   "name": "python",
   "nbconvert_exporter": "python",
   "pygments_lexer": "ipython3",
   "version": "3.11.0"
  }
 },
 "nbformat": 4,
 "nbformat_minor": 2
}
