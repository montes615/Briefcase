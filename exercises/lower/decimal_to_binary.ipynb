{
 "cells": [
  {
   "cell_type": "code",
   "execution_count": 25,
   "metadata": {},
   "outputs": [
    {
     "name": "stdout",
     "output_type": "stream",
     "text": [
      "111101111000001\n",
      "0b111101111000001\n"
     ]
    }
   ],
   "source": [
    "'''\n",
    "/*\n",
    " * Crea un programa se encargue de transformar un número\n",
    " * decimal a binario sin utilizar funciones propias del lenguaje que lo hagan directamente.\n",
    " */\n",
    "'''\n",
    "\n",
    "def decimal_to_binary(number: int) -> str:\n",
    "    if type(number) != int:\n",
    "        return 'The argument must be a integer'\n",
    "    elif number == 0:\n",
    "        return '0'\n",
    "    \n",
    "    binary = ''\n",
    "    while number > 0:\n",
    "        binary = str( int(number % 2) ) + binary\n",
    "        number //= 2\n",
    "        \n",
    "    return binary\n",
    "\n",
    "binary_number = decimal_to_binary(31681)\n",
    "print(binary_number)"
   ]
  }
 ],
 "metadata": {
  "kernelspec": {
   "display_name": "env",
   "language": "python",
   "name": "python3"
  },
  "language_info": {
   "codemirror_mode": {
    "name": "ipython",
    "version": 3
   },
   "file_extension": ".py",
   "mimetype": "text/x-python",
   "name": "python",
   "nbconvert_exporter": "python",
   "pygments_lexer": "ipython3",
   "version": "3.11.0"
  }
 },
 "nbformat": 4,
 "nbformat_minor": 2
}
