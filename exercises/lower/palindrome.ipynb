{
 "cells": [
  {
   "cell_type": "code",
   "execution_count": 14,
   "metadata": {},
   "outputs": [
    {
     "name": "stdout",
     "output_type": "stream",
     "text": [
      "True\n"
     ]
    }
   ],
   "source": [
    "'''\n",
    "/*\n",
    " * Escribe una función que reciba un texto y retorne verdadero o\n",
    " * falso (Boolean) según sean o no palíndromos.\n",
    " * Un Palíndromo es una palabra o expresión que es igual si se lee\n",
    " * de izquierda a derecha que de derecha a izquierda.\n",
    " * NO se tienen en cuenta los espacios, signos de puntuación y tildes.\n",
    " * Ejemplo: Ana lleva al oso la avellana.\n",
    " */\n",
    "'''\n",
    "import re\n",
    "\n",
    "def is_palondrome(string: str) -> bool|str:\n",
    "    if type(string) != str:\n",
    "        return 'The argument must be a string'\n",
    "    \n",
    "    specials = {'á': 'a', 'é': 'e', 'í': 'i', 'ó': 'o', 'ú': 'u'}\n",
    "    prepared_string = re.sub(r'[^a-zA-Z0-9áéíóú]', '', string.lower())\n",
    "    \n",
    "    for key, value in specials.items():\n",
    "        prepared_string = prepared_string.replace(key, value)\n",
    "        \n",
    "    normal = list(prepared_string)\n",
    "    reverse = list(prepared_string)\n",
    "    reverse.reverse()\n",
    "    \n",
    "    result = True if normal == reverse else False\n",
    "        \n",
    "    return result\n",
    "\n",
    "\n",
    "palindrome = '1 Ána lleva al oso la avellana.   1'\n",
    "# palindrome = 1\n",
    "print(is_palondrome(palindrome))"
   ]
  }
 ],
 "metadata": {
  "kernelspec": {
   "display_name": "env",
   "language": "python",
   "name": "python3"
  },
  "language_info": {
   "codemirror_mode": {
    "name": "ipython",
    "version": 3
   },
   "file_extension": ".py",
   "mimetype": "text/x-python",
   "name": "python",
   "nbconvert_exporter": "python",
   "pygments_lexer": "ipython3",
   "version": "3.11.0"
  }
 },
 "nbformat": 4,
 "nbformat_minor": 2
}
