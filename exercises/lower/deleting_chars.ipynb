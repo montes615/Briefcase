{
 "cells": [
  {
   "cell_type": "code",
   "execution_count": 3,
   "metadata": {},
   "outputs": [
    {
     "name": "stdout",
     "output_type": "stream",
     "text": [
      "out1: ['l', '1']\n",
      "out2: ['o', 'r', 'q', 'u', 'i', 'm', 'r', 'r']\n"
     ]
    }
   ],
   "source": [
    "'''\n",
    "/*\n",
    " * Crea una función que reciba dos cadenas como parámetro (str1, str2)\n",
    " * e imprima otras dos cadenas como salida (out1, out2).\n",
    " * - out1 contendrá todos los caracteres presentes en la str1 pero NO\n",
    " *   estén presentes en str2.\n",
    " * - out2 contendrá todos los caracteres presentes en la str2 pero NO\n",
    " *   estén presentes en str1.\n",
    " */\n",
    "'''\n",
    "\n",
    "def diff(str1: str, str2: str) -> None:\n",
    "    if type(str1) != str or type(str2) != str:\n",
    "        print('The inputs must be strings')\n",
    "        \n",
    "    out1 = [ c for c in str1 if c not in str2 ]\n",
    "    out2 = [ c for c in str2 if c not in str1 ]\n",
    "    \n",
    "    print(f'out1: {out1}')\n",
    "    print(f'out2: {out2}')\n",
    "\n",
    "\n",
    "str1 = 'Esta es la cadena 1'\n",
    "str2 = 'Esta es otra cadena que tiene mas caracteres'\n",
    "diff(str1, str2)"
   ]
  }
 ],
 "metadata": {
  "kernelspec": {
   "display_name": "env",
   "language": "python",
   "name": "python3"
  },
  "language_info": {
   "codemirror_mode": {
    "name": "ipython",
    "version": 3
   },
   "file_extension": ".py",
   "mimetype": "text/x-python",
   "name": "python",
   "nbconvert_exporter": "python",
   "pygments_lexer": "ipython3",
   "version": "3.11.0"
  }
 },
 "nbformat": 4,
 "nbformat_minor": 2
}
