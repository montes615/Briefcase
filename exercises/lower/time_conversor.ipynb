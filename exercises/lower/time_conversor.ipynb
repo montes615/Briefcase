{
 "cells": [
  {
   "cell_type": "code",
   "execution_count": 21,
   "metadata": {},
   "outputs": [
    {
     "name": "stdout",
     "output_type": "stream",
     "text": [
      "245525000\n"
     ]
    }
   ],
   "source": [
    "\"\"\"\n",
    "/*\n",
    " * Crea una función que reciba días, horas, minutos y segundos (como enteros)\n",
    " * y retorne su resultado en milisegundos.\n",
    " */\n",
    "\"\"\"\n",
    "conversion = {'days': 86400000, 'hours': 3600000, 'minutes': 60000, 'seconds': 1000}\n",
    "\n",
    "def conversor(**kargs) -> int:\n",
    "    miliseconds = 0\n",
    "    for key, value in kargs.items():\n",
    "        if value < 0 or type(value) != int:\n",
    "            raise ValueError('The values of the dictionary must be positive ints')\n",
    "        \n",
    "        if key not in conversion:\n",
    "            raise ValueError('The keys of the dictionary only accept [days, hours, minutes, seconds]')\n",
    "        \n",
    "        miliseconds += value * conversion[key]\n",
    "        \n",
    "    return miliseconds\n",
    "\n",
    "\n",
    "try:\n",
    "    data = {'days': 2, 'hours': 20, 'minutes': 12, 'seconds': 5}\n",
    "    # data = {'days': 2, 'hours': 0, 'minutes': 0, '_seconds': 0}\n",
    "    # data = {'days': 2, 'minutes': 0, 'seconds': 0}\n",
    "    result = conversor(**data)\n",
    "    print(result)\n",
    "except Exception as e:\n",
    "    print(e)"
   ]
  }
 ],
 "metadata": {
  "kernelspec": {
   "display_name": "env",
   "language": "python",
   "name": "python3"
  },
  "language_info": {
   "codemirror_mode": {
    "name": "ipython",
    "version": 3
   },
   "file_extension": ".py",
   "mimetype": "text/x-python",
   "name": "python",
   "nbconvert_exporter": "python",
   "pygments_lexer": "ipython3",
   "version": "3.11.0"
  }
 },
 "nbformat": 4,
 "nbformat_minor": 2
}
