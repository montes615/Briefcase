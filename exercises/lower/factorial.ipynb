{
 "cells": [
  {
   "cell_type": "code",
   "execution_count": 17,
   "metadata": {},
   "outputs": [
    {
     "name": "stdout",
     "output_type": "stream",
     "text": [
      "120\n"
     ]
    }
   ],
   "source": [
    "'''\n",
    "/*\n",
    " * Escribe una función que calcule y retorne el factorial de un número dado\n",
    " * de forma recursiva.\n",
    " */\n",
    "'''\n",
    "\n",
    "def factorial(number: int, result: int = 1) -> int|str:\n",
    "    if type(number) != int:\n",
    "        return 'The argument must be a integer'\n",
    "    \n",
    "    result = result * number\n",
    "    number -= 1\n",
    "    \n",
    "    if number > 0:\n",
    "        result = factorial(number, result)\n",
    "    \n",
    "    return result\n",
    "\n",
    "\n",
    "def factorial(number: int) -> int:\n",
    "    if type(number) != int or number <= 0:\n",
    "        return 'The argument must be a positive integer'\n",
    "    \n",
    "    return 1 if number == 1 else number * factorial(number - 1)\n",
    "\n",
    "\n",
    "result = factorial(5)\n",
    "print(result)"
   ]
  }
 ],
 "metadata": {
  "kernelspec": {
   "display_name": "env",
   "language": "python",
   "name": "python3"
  },
  "language_info": {
   "codemirror_mode": {
    "name": "ipython",
    "version": 3
   },
   "file_extension": ".py",
   "mimetype": "text/x-python",
   "name": "python",
   "nbconvert_exporter": "python",
   "pygments_lexer": "ipython3",
   "version": "3.11.0"
  }
 },
 "nbformat": 4,
 "nbformat_minor": 2
}
