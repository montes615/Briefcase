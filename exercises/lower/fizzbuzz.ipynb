{
 "cells": [
  {
   "cell_type": "code",
   "execution_count": 6,
   "metadata": {},
   "outputs": [
    {
     "name": "stdout",
     "output_type": "stream",
     "text": [
      "fizz 3\n",
      "buzz 5\n",
      "fizz 6\n",
      "fizz 9\n",
      "buzz 10\n",
      "fizz 12\n",
      "fizzbuzz 15\n",
      "fizz 18\n",
      "buzz 20\n",
      "fizz 21\n",
      "fizz 24\n",
      "buzz 25\n",
      "fizz 27\n",
      "fizzbuzz 30\n",
      "fizz 33\n",
      "buzz 35\n",
      "fizz 36\n",
      "fizz 39\n",
      "buzz 40\n",
      "fizz 42\n",
      "fizzbuzz 45\n",
      "fizz 48\n",
      "buzz 50\n",
      "fizz 51\n",
      "fizz 54\n",
      "buzz 55\n",
      "fizz 57\n",
      "fizzbuzz 60\n",
      "fizz 63\n",
      "buzz 65\n",
      "fizz 66\n",
      "fizz 69\n",
      "buzz 70\n",
      "fizz 72\n",
      "fizzbuzz 75\n",
      "fizz 78\n",
      "buzz 80\n",
      "fizz 81\n",
      "fizz 84\n",
      "buzz 85\n",
      "fizz 87\n",
      "fizzbuzz 90\n",
      "fizz 93\n",
      "buzz 95\n",
      "fizz 96\n",
      "fizz 99\n",
      "buzz 100\n"
     ]
    }
   ],
   "source": [
    "'''\n",
    "/*\n",
    " * Escribe un programa que muestre por consola (con un print) los\n",
    " * números de 1 a 100 (ambos incluidos y con un salto de línea entre\n",
    " * cada impresión), sustituyendo los siguientes:\n",
    " * - Múltiplos de 3 por la palabra \"fizz\".\n",
    " * - Múltiplos de 5 por la palabra \"buzz\".\n",
    " * - Múltiplos de 3 y de 5 a la vez por la palabra \"fizzbuzz\".\n",
    " */\n",
    "'''\n",
    "\n",
    "def fizzbuzz() -> None:\n",
    "    '''\n",
    "    Print fizz if the number is multiple of 3, print buzz if are multiple of 5\n",
    "    print fizzbuzz if the number are multiple of 5 and 3\n",
    "    '''\n",
    "    for i in range(1, 101):\n",
    "        if i % 3 == 0 and i % 5 == 0:\n",
    "            print('fizzbuzz', i)\n",
    "        elif i % 3 == 0:\n",
    "            print('fizz', i)\n",
    "        elif i % 5 == 0:\n",
    "            print('buzz', i)\n",
    "            \n",
    "            \n",
    "fizzbuzz()"
   ]
  }
 ],
 "metadata": {
  "kernelspec": {
   "display_name": "env",
   "language": "python",
   "name": "python3"
  },
  "language_info": {
   "codemirror_mode": {
    "name": "ipython",
    "version": 3
   },
   "file_extension": ".py",
   "mimetype": "text/x-python",
   "name": "python",
   "nbconvert_exporter": "python",
   "pygments_lexer": "ipython3",
   "version": "3.11.0"
  }
 },
 "nbformat": 4,
 "nbformat_minor": 2
}
