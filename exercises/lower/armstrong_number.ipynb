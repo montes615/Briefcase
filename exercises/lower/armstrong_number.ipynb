{
 "cells": [
  {
   "cell_type": "code",
   "execution_count": 21,
   "metadata": {},
   "outputs": [
    {
     "name": "stdout",
     "output_type": "stream",
     "text": [
      "True\n"
     ]
    }
   ],
   "source": [
    "'''\n",
    "/*\n",
    " * Escribe una función que calcule si un número dado es un número de Armstrong\n",
    " * (o también llamado narcisista).\n",
    " * Si no conoces qué es un número de Armstrong, debes buscar información\n",
    " * al respecto.\n",
    " */\n",
    "'''\n",
    "\n",
    "def armstrong_number(number: int) -> bool|str:\n",
    "    if type(number) != int:\n",
    "        return 'The argument must be int'\n",
    "    \n",
    "    result = 0\n",
    "    numbers = [int(n) for n in str(number)]\n",
    "    exp = len(numbers)\n",
    "    \n",
    "    for n in numbers:\n",
    "        result += n ** exp\n",
    "        \n",
    "    return True if result == number else False\n",
    "    \n",
    "    \n",
    "result = armstrong_number(370)\n",
    "print(result)"
   ]
  }
 ],
 "metadata": {
  "kernelspec": {
   "display_name": "env",
   "language": "python",
   "name": "python3"
  },
  "language_info": {
   "codemirror_mode": {
    "name": "ipython",
    "version": 3
   },
   "file_extension": ".py",
   "mimetype": "text/x-python",
   "name": "python",
   "nbconvert_exporter": "python",
   "pygments_lexer": "ipython3",
   "version": "3.11.0"
  }
 },
 "nbformat": 4,
 "nbformat_minor": 2
}
