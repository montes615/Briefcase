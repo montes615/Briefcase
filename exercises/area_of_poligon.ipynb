{
 "cells": [
  {
   "cell_type": "code",
   "execution_count": 7,
   "metadata": {},
   "outputs": [
    {
     "name": "stdout",
     "output_type": "stream",
     "text": [
      "30\n",
      "37.5\n",
      "300\n",
      "None\n"
     ]
    }
   ],
   "source": [
    "class Square:\n",
    "    \n",
    "    def __init__(self, side: float|int) -> None:\n",
    "        self.side = side\n",
    "        \n",
    "class Rectangle:\n",
    "    \n",
    "    def __init__(self, width: float|int, height: float|int) -> None:\n",
    "        self.width = width\n",
    "        self.height = height\n",
    "\n",
    "class Triangle:\n",
    "    \n",
    "    def __init__(self, base: float|int, height: float|int) -> None:\n",
    "        self.base = base\n",
    "        self.height = height\n",
    "\n",
    "def area(poligon: Square|Rectangle|Triangle) -> float|None:\n",
    "    area: float = None\n",
    "    match type(poligon).__name__:\n",
    "        case 'Square':\n",
    "            area = poligon.side * 2\n",
    "        case 'Rectangle':\n",
    "            area = poligon.width * poligon.height\n",
    "        case 'Triangle':\n",
    "            area = (poligon.base * poligon.height) / 2\n",
    "    \n",
    "    print(area)\n",
    "    return area\n",
    "\n",
    "area(Square(15))\n",
    "area(Triangle(15, 5))\n",
    "area(Rectangle(15, 20))\n",
    "area(list)"
   ]
  }
 ],
 "metadata": {
  "kernelspec": {
   "display_name": "env",
   "language": "python",
   "name": "python3"
  },
  "language_info": {
   "codemirror_mode": {
    "name": "ipython",
    "version": 3
   },
   "file_extension": ".py",
   "mimetype": "text/x-python",
   "name": "python",
   "nbconvert_exporter": "python",
   "pygments_lexer": "ipython3",
   "version": "3.11.0"
  }
 },
 "nbformat": 4,
 "nbformat_minor": 2
}
